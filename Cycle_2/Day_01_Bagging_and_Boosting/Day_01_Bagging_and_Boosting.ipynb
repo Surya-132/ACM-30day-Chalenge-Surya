{
 "cells": [
  {
   "cell_type": "code",
   "execution_count": 5,
   "id": "926a1bb2-ca06-4c1f-83df-8660eb21e866",
   "metadata": {},
   "outputs": [
    {
     "name": "stdout",
     "output_type": "stream",
     "text": [
      "\n",
      "Random Forest Accuracy: 0.9649\n",
      "Confusion Matrix:\n",
      "[[70  1]\n",
      " [ 3 40]]\n",
      "\n",
      "AdaBoost Accuracy: 0.9737\n",
      "Confusion Matrix:\n",
      "[[70  1]\n",
      " [ 2 41]]\n",
      "\n",
      "XGBoost Accuracy: 0.9561\n",
      "Confusion Matrix:\n",
      "[[69  2]\n",
      " [ 3 40]]\n"
     ]
    }
   ],
   "source": [
    "import pandas as pd\n",
    "import numpy as np\n",
    "import warnings\n",
    "import seaborn as sns\n",
    "import matplotlib.pyplot as plt\n",
    "from sklearn.model_selection import train_test_split\n",
    "from sklearn.preprocessing import StandardScaler\n",
    "from sklearn.ensemble import RandomForestClassifier, AdaBoostClassifier\n",
    "from xgboost import XGBClassifier\n",
    "from sklearn.metrics import accuracy_score, confusion_matrix\n",
    "\n",
    "warnings.filterwarnings(\"ignore\")\n",
    "sns.set(style=\"whitegrid\")\n",
    "pd.set_option('display.max_columns', None)\n",
    "\n",
    "data = pd.read_csv(\"./breast-cancer.csv\")\n",
    "\n",
    "data.drop(columns=['id'], inplace=True)\n",
    "data['diagnosis'] = data['diagnosis'].map({'M': 1, 'B': 0})  \n",
    "\n",
    "X = data.drop(columns=['diagnosis'])  \n",
    "y = data['diagnosis']  \n",
    "\n",
    "X_train, X_test, y_train, y_test = train_test_split(X, y, test_size=0.2, random_state=42)\n",
    "\n",
    "scaler = StandardScaler()\n",
    "X_train_scaled = scaler.fit_transform(X_train)\n",
    "X_test_scaled = scaler.transform(X_test)\n",
    "\n",
    "rfc = RandomForestClassifier(random_state=1)\n",
    "ada = AdaBoostClassifier(random_state=1)\n",
    "xgb = XGBClassifier(use_label_encoder=False, random_state=1)\n",
    "\n",
    "def evaluate_model(name, model, X_train_scaled, y_train, X_test_scaled, y_test):\n",
    "    model.fit(X_train_scaled, y_train)\n",
    "    y_pred=model.predict(X_test_scaled)\n",
    "    print(f\"\\n{name} Accuracy: {accuracy_score(y_test, y_pred):.4f}\")\n",
    "    print(\"Confusion Matrix:\")\n",
    "    print(confusion_matrix(y_test, y_pred))\n",
    "    \n",
    "#Compare Models\n",
    "evaluate_model(\"Random Forest\", rfc, X_train_scaled, y_train, X_test_scaled, y_test)\n",
    "evaluate_model(\"AdaBoost\", ada, X_train_scaled, y_train, X_test_scaled, y_test)\n",
    "evaluate_model(\"XGBoost\", xgb, X_train_scaled, y_train, X_test_scaled, y_test)\n"
   ]
  }
 ],
 "metadata": {
  "kernelspec": {
   "display_name": "base",
   "language": "python",
   "name": "python3"
  },
  "language_info": {
   "codemirror_mode": {
    "name": "ipython",
    "version": 3
   },
   "file_extension": ".py",
   "mimetype": "text/x-python",
   "name": "python",
   "nbconvert_exporter": "python",
   "pygments_lexer": "ipython3",
   "version": "3.12.4"
  }
 },
 "nbformat": 4,
 "nbformat_minor": 5
}
